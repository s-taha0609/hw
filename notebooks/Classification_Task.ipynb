{
 "cells": [
  {
   "metadata": {},
   "cell_type": "markdown",
   "source": "# Predicting Tax Avoidance Categories",
   "id": "d55cf9e186b51897"
  },
  {
   "metadata": {},
   "cell_type": "markdown",
   "source": "## Data Preparation",
   "id": "c352d9cc4842ee81"
  },
  {
   "metadata": {
    "ExecuteTime": {
     "end_time": "2025-10-10T09:19:28.848868Z",
     "start_time": "2025-10-10T09:19:27.886434Z"
    }
   },
   "cell_type": "code",
   "source": [
    "import pandas as pd\n",
    "import numpy as np\n",
    "import matplotlib.pyplot as plt\n",
    "import seaborn as sns\n",
    "import os\n",
    "import joblib\n",
    "\n",
    "from sklearn.model_selection import TimeSeriesSplit, GridSearchCV\n",
    "from sklearn.linear_model import LogisticRegression\n",
    "from sklearn.preprocessing import StandardScaler, OneHotEncoder\n",
    "from sklearn.neighbors import KNeighborsClassifier\n",
    "from sklearn.svm import SVC\n",
    "from sklearn.metrics import accuracy_score, classification_report, ConfusionMatrixDisplay\n",
    "from sklearn.compose import ColumnTransformer\n",
    "from sklearn.pipeline import Pipeline\n",
    "from sklearn.feature_selection import SequentialFeatureSelector\n",
    "\n",
    "from sklearn import set_config\n",
    "set_config(enable_metadata_routing=True)\n"
   ],
   "id": "674e0495e135d775",
   "outputs": [],
   "execution_count": 1
  },
  {
   "metadata": {},
   "cell_type": "markdown",
   "source": "### 1. Load the prepared datasets",
   "id": "6322d9835e4d03ac"
  },
  {
   "metadata": {
    "ExecuteTime": {
     "end_time": "2025-10-10T09:19:29.028278Z",
     "start_time": "2025-10-10T09:19:28.964266Z"
    }
   },
   "cell_type": "code",
   "source": [
    "train_fe = pd.read_csv('../data/train_fe.csv')\n",
    "test_fe = pd.read_csv('../data/test_fe.csv')\n",
    "\n",
    "train_fe.sample(10)\n",
    "test_fe.sample(10)\n",
    "\n",
    "train_fe.info()\n",
    "test_fe.info()"
   ],
   "id": "9acfcd26f3d762d9",
   "outputs": [
    {
     "name": "stdout",
     "output_type": "stream",
     "text": [
      "<class 'pandas.core.frame.DataFrame'>\n",
      "RangeIndex: 3993 entries, 0 to 3992\n",
      "Columns: 116 entries, Unnamed: 0 to cash_holdings_past\n",
      "dtypes: float64(57), int64(57), object(2)\n",
      "memory usage: 3.5+ MB\n",
      "<class 'pandas.core.frame.DataFrame'>\n",
      "RangeIndex: 363 entries, 0 to 362\n",
      "Columns: 116 entries, Unnamed: 0 to cash_holdings_past\n",
      "dtypes: float64(57), int64(57), object(2)\n",
      "memory usage: 329.1+ KB\n"
     ]
    }
   ],
   "execution_count": 2
  },
  {
   "metadata": {},
   "cell_type": "markdown",
   "source": "### 2.Create the target classification variable",
   "id": "98b2381b91c82f0"
  },
  {
   "metadata": {
    "ExecuteTime": {
     "end_time": "2025-10-10T09:19:29.166316Z",
     "start_time": "2025-10-10T09:19:29.164167Z"
    }
   },
   "cell_type": "code",
   "source": [
    "def create_target(df):\n",
    "\n",
    "    bins = [-np.inf, 0.15, 0.25, np.inf]\n",
    "    labels = [2, 1, 0]\n",
    "\n",
    "    df_copy = df.copy()\n",
    "    df_copy['target'] = pd.cut(df_copy['etr'], bins=bins, labels=labels)\n",
    "\n",
    "    return df_copy\n"
   ],
   "id": "5bca8c38e78851c6",
   "outputs": [],
   "execution_count": 3
  },
  {
   "metadata": {
    "ExecuteTime": {
     "end_time": "2025-10-10T09:19:29.380445Z",
     "start_time": "2025-10-10T09:19:29.311521Z"
    }
   },
   "cell_type": "code",
   "source": [
    "train_fe = create_target(train_fe)\n",
    "test_fe = create_target(test_fe)\n",
    "print(train_fe.shape)\n",
    "print(train_fe.describe())\n",
    "\n",
    "print(\"ETR missing: train:\", train_fe['etr'].isna().sum(), \" / test:\", test_fe['etr'].isna().sum())"
   ],
   "id": "12f5c4524c449275",
   "outputs": [
    {
     "name": "stdout",
     "output_type": "stream",
     "text": [
      "(3993, 117)\n",
      "       Unnamed: 0          rok            ta           txt            pi  \\\n",
      "count  3993.00000  3993.000000  3.993000e+03   3993.000000   3993.000000   \n",
      "mean   2177.00000  2010.000000  2.748262e+04    177.332497    646.508278   \n",
      "std    1257.62558     3.162674  1.492132e+05    688.278950   2279.888203   \n",
      "min       0.00000  2005.000000  9.707000e-01  -4432.000000  -9571.000000   \n",
      "25%    1088.00000  2007.000000  1.995960e+02      1.263000      7.630000   \n",
      "50%    2177.00000  2010.000000  1.306357e+03     10.295500     57.599998   \n",
      "75%    3266.00000  2013.000000  8.498754e+03    104.099998    435.479980   \n",
      "max    4354.00000  2015.000000  2.077758e+06  12737.000000  38834.000000   \n",
      "\n",
      "               str           xrd             ni         ppent        intant  \\\n",
      "count  3993.000000   3993.000000    3993.000000   3993.000000   3993.000000   \n",
      "mean      0.230383    276.556515    1623.716504   2023.278564   2157.342155   \n",
      "std       0.059021   1405.230262    8366.277174   6138.074637   5754.848775   \n",
      "min       0.002400  -8046.000000   -7946.000000      0.000000      0.000000   \n",
      "25%       0.190000      0.000000       6.250000     15.475100      3.178778   \n",
      "50%       0.190000      0.000000      47.467999     98.990997     63.099998   \n",
      "75%       0.287933     59.000000     477.100006    896.806030    977.000000   \n",
      "max       0.390000  25700.000000  133690.000000  70977.000000  61718.000000   \n",
      "\n",
      "       ...     intan_ma       ppe_ma      sale_ma  cash_holdings_ma  \\\n",
      "count  ...  3993.000000  3993.000000  3993.000000       3993.000000   \n",
      "mean   ...     0.145767     0.252061     0.655031          0.088044   \n",
      "std    ...     0.181997     0.240147     0.338391          0.089624   \n",
      "min    ...     0.000000     0.000000     0.000004          0.000160   \n",
      "25%    ...     0.009266     0.040277     0.446196          0.031417   \n",
      "50%    ...     0.055437     0.187195     0.625128          0.062103   \n",
      "75%    ...     0.222542     0.408827     0.862620          0.109063   \n",
      "max    ...     0.816302     1.272815     2.184560          0.746261   \n",
      "\n",
      "          roa_past     lev_past   intan_past     ppe_past    sale_past  \\\n",
      "count  3993.000000  3993.000000  3993.000000  3993.000000  3993.000000   \n",
      "mean      0.099924     0.228375     0.146994     0.252078     0.652977   \n",
      "std       0.163225     0.166544     0.186597     0.242300     0.342380   \n",
      "min      -1.251406     0.000000     0.000000     0.000000     0.000000   \n",
      "25%       0.023670     0.099649     0.008589     0.038307     0.438115   \n",
      "50%       0.054067     0.211626     0.054262     0.182581     0.619888   \n",
      "75%       0.109644     0.322323     0.222542     0.411148     0.867175   \n",
      "max       0.894326     1.000000     1.000000     1.300381     2.229611   \n",
      "\n",
      "       cash_holdings_past  \n",
      "count         3993.000000  \n",
      "mean             0.087605  \n",
      "std              0.094223  \n",
      "min              0.000000  \n",
      "25%              0.027946  \n",
      "50%              0.058728  \n",
      "75%              0.109675  \n",
      "max              0.788311  \n",
      "\n",
      "[8 rows x 114 columns]\n",
      "ETR missing: train: 0  / test: 0\n"
     ]
    }
   ],
   "execution_count": 4
  },
  {
   "metadata": {},
   "cell_type": "markdown",
   "source": "### 3. Check class balance and visualize the distribution",
   "id": "b78a805e4098e7f9"
  },
  {
   "metadata": {
    "ExecuteTime": {
     "end_time": "2025-10-10T09:19:29.537830Z",
     "start_time": "2025-10-10T09:19:29.399720Z"
    }
   },
   "cell_type": "code",
   "source": [
    "plt.figure(figsize=(10, 5))\n",
    "ax = sns.countplot(x='target', data=train_fe)\n",
    "ax.set(ylabel='Count', title='Distribution of Target Classes')\n",
    "plt.show()\n",
    "print(train_fe['target'].value_counts(normalize=True) * 100)"
   ],
   "id": "cafe025fcb85f28f",
   "outputs": [
    {
     "data": {
      "text/plain": [
       "<Figure size 1000x500 with 1 Axes>"
      ],
      "image/png": "[encoded data removed]"
     },
     "metadata": {},
     "output_type": "display_data"
    },
    {
     "name": "stdout",
     "output_type": "stream",
     "text": [
      "target\n",
      "1    41.773103\n",
      "0    31.730528\n",
      "2    26.496369\n",
      "Name: proportion, dtype: float64\n"
     ]
    }
   ],
   "execution_count": 5
  },
  {
   "metadata": {
    "ExecuteTime": {
     "end_time": "2025-10-10T09:19:29.564277Z",
     "start_time": "2025-10-10T09:19:29.560650Z"
    }
   },
   "cell_type": "code",
   "source": "print(train_fe['target'].value_counts(normalize=True) * 100)",
   "id": "d627365bb9943e8b",
   "outputs": [
    {
     "name": "stdout",
     "output_type": "stream",
     "text": [
      "target\n",
      "1    41.773103\n",
      "0    31.730528\n",
      "2    26.496369\n",
      "Name: proportion, dtype: float64\n"
     ]
    }
   ],
   "execution_count": 6
  },
  {
   "metadata": {},
   "cell_type": "markdown",
   "source": "### 4. Select features (use existing feature which already engineered from the project)",
   "id": "acceb3e787b0902e"
  },
  {
   "metadata": {
    "ExecuteTime": {
     "end_time": "2025-10-10T09:19:29.766031Z",
     "start_time": "2025-10-10T09:19:29.748417Z"
    }
   },
   "cell_type": "code",
   "source": [
    "print(train_fe.columns)\n",
    "train_fe"
   ],
   "id": "6e473ec2f662def1",
   "outputs": [
    {
     "name": "stdout",
     "output_type": "stream",
     "text": [
      "Index(['Unnamed: 0', 'Ticker', 'Nazwa2', 'rok', 'ta', 'txt', 'pi', 'str',\n",
      "       'xrd', 'ni',\n",
      "       ...\n",
      "       'ppe_ma', 'sale_ma', 'cash_holdings_ma', 'roa_past', 'lev_past',\n",
      "       'intan_past', 'ppe_past', 'sale_past', 'cash_holdings_past', 'target'],\n",
      "      dtype='object', length=117)\n"
     ]
    },
    {
     "data": {
      "text/plain": [
       "      Unnamed: 0         Ticker             Nazwa2   rok          ta      txt  \\\n",
       "0              0  11B PW Equity  11 bit studios SA  2005   21.127613  1.24185   \n",
       "1              1  11B PW Equity  11 bit studios SA  2006   21.127613  1.24185   \n",
       "2              2  11B PW Equity  11 bit studios SA  2007   21.127613  1.24185   \n",
       "3              3  11B PW Equity  11 bit studios SA  2008   21.127613  1.24185   \n",
       "4              4  11B PW Equity  11 bit studios SA  2009   21.127613  1.24185   \n",
       "...          ...            ...                ...   ...         ...      ...   \n",
       "3988        4350  ZMT PW Equity  Zamet Industry SA  2011  203.889008  7.99200   \n",
       "3989        4351  ZMT PW Equity  Zamet Industry SA  2012  176.524002  7.32400   \n",
       "3990        4352  ZMT PW Equity  Zamet Industry SA  2013  218.889008  7.08800   \n",
       "3991        4353  ZMT PW Equity  Zamet Industry SA  2014  264.322998  4.07900   \n",
       "3992        4354  ZMT PW Equity  Zamet Industry SA  2015  265.816010  3.33400   \n",
       "\n",
       "             pi   str  xrd         ni  ...    ppe_ma   sale_ma  \\\n",
       "0      6.329725  0.19  0.0   5.087900  ...  0.013076  0.445954   \n",
       "1      6.329725  0.19  0.0   5.087900  ...  0.013076  0.445954   \n",
       "2      6.329725  0.19  0.0   5.087900  ...  0.013076  0.445954   \n",
       "3      6.329725  0.19  0.0   5.087900  ...  0.013076  0.445954   \n",
       "4      6.329725  0.19  0.0   5.087900  ...  0.013076  0.445954   \n",
       "...         ...   ...  ...        ...  ...       ...       ...   \n",
       "3988  32.415001  0.19  0.0  24.423000  ...  0.408827  0.478225   \n",
       "3989  36.959999  0.19  0.0  29.636000  ...  0.385654  0.463679   \n",
       "3990  36.972000  0.19  0.0  29.884001  ...  0.387800  0.631418   \n",
       "3991  29.132000  0.19  0.0  25.052999  ...  0.364668  0.645137   \n",
       "3992  17.288000  0.19  0.0  13.954000  ...  0.380495  0.608379   \n",
       "\n",
       "      cash_holdings_ma  roa_past  lev_past  intan_past  ppe_past  sale_past  \\\n",
       "0             0.574744  0.240818  0.000000    0.198598  0.013076   0.445954   \n",
       "1             0.574744  0.240818  0.000000    0.198598  0.013076   0.445954   \n",
       "2             0.574744  0.240818  0.000000    0.198598  0.013076   0.445954   \n",
       "3             0.574744  0.240818  0.000000    0.198598  0.013076   0.445954   \n",
       "4             0.574744  0.240818  0.000000    0.198598  0.013076   0.445954   \n",
       "...                ...       ...       ...         ...       ...        ...   \n",
       "3988          0.213261  0.009109  0.177858    0.079454  0.400440   0.337819   \n",
       "3989          0.144478  0.119786  0.132538    0.077758  0.370868   0.589539   \n",
       "3990          0.086577  0.167887  0.081224    0.090118  0.404732   0.673297   \n",
       "3991          0.032996  0.136526  0.175235    0.075266  0.324603   0.616978   \n",
       "3992          0.011860  0.094782  0.131998    0.064837  0.436387   0.599780   \n",
       "\n",
       "      cash_holdings_past  target  \n",
       "0               0.574744       1  \n",
       "1               0.574744       1  \n",
       "2               0.574744       1  \n",
       "3               0.574744       1  \n",
       "4               0.574744       1  \n",
       "...                  ...     ...  \n",
       "3988            0.171171       1  \n",
       "3989            0.117785       1  \n",
       "3990            0.055369       2  \n",
       "3991            0.010622       1  \n",
       "3992            0.013098       1  \n",
       "\n",
       "[3993 rows x 117 columns]"
      ],
      "text/html": [
       "<div>\n",
       "<style scoped>\n",
       "    .dataframe tbody tr th:only-of-type {\n",
       "        vertical-align: middle;\n",
       "    }\n",
       "\n",
       "    .dataframe tbody tr th {\n",
       "        vertical-align: top;\n",
       "    }\n",
       "\n",
       "    .dataframe thead th {\n",
       "        text-align: right;\n",
       "    }\n",
       "</style>\n",
       "<table border=\"1\" class=\"dataframe\">\n",
       "  <thead>\n",
       "    <tr style=\"text-align: right;\">\n",
       "      <th></th>\n",
       "      <th>Unnamed: 0</th>\n",
       "      <th>Ticker</th>\n",
       "      <th>Nazwa2</th>\n",
       "      <th>rok</th>\n",
       "      <th>ta</th>\n",
       "      <th>txt</th>\n",
       "      <th>pi</th>\n",
       "      <th>str</th>\n",
       "      <th>xrd</th>\n",
       "      <th>ni</th>\n",
       "      <th>...</th>\n",
       "      <th>ppe_ma</th>\n",
       "      <th>sale_ma</th>\n",
       "      <th>cash_holdings_ma</th>\n",
       "      <th>roa_past</th>\n",
       "      <th>lev_past</th>\n",
       "      <th>intan_past</th>\n",
       "      <th>ppe_past</th>\n",
       "      <th>sale_past</th>\n",
       "      <th>cash_holdings_past</th>\n",
       "      <th>target</th>\n",
       "    </tr>\n",
       "  </thead>\n",
       "  <tbody>\n",
       "    <tr>\n",
       "      <th>0</th>\n",
       "      <td>0</td>\n",
       "      <td>11B PW Equity</td>\n",
       "      <td>11 bit studios SA</td>\n",
       "      <td>2005</td>\n",
       "      <td>21.127613</td>\n",
       "      <td>1.24185</td>\n",
       "      <td>6.329725</td>\n",
       "      <td>0.19</td>\n",
       "      <td>0.0</td>\n",
       "      <td>5.087900</td>\n",
       "      <td>...</td>\n",
       "      <td>0.013076</td>\n",
       "      <td>0.445954</td>\n",
       "      <td>0.574744</td>\n",
       "      <td>0.240818</td>\n",
       "      <td>0.000000</td>\n",
       "      <td>0.198598</td>\n",
       "      <td>0.013076</td>\n",
       "      <td>0.445954</td>\n",
       "      <td>0.574744</td>\n",
       "      <td>1</td>\n",
       "    </tr>\n",
       "    <tr>\n",
       "      <th>1</th>\n",
       "      <td>1</td>\n",
       "      <td>11B PW Equity</td>\n",
       "      <td>11 bit studios SA</td>\n",
       "      <td>2006</td>\n",
       "      <td>21.127613</td>\n",
       "      <td>1.24185</td>\n",
       "      <td>6.329725</td>\n",
       "      <td>0.19</td>\n",
       "      <td>0.0</td>\n",
       "      <td>5.087900</td>\n",
       "      <td>...</td>\n",
       "      <td>0.013076</td>\n",
       "      <td>0.445954</td>\n",
       "      <td>0.574744</td>\n",
       "      <td>0.240818</td>\n",
       "      <td>0.000000</td>\n",
       "      <td>0.198598</td>\n",
       "      <td>0.013076</td>\n",
       "      <td>0.445954</td>\n",
       "      <td>0.574744</td>\n",
       "      <td>1</td>\n",
       "    </tr>\n",
       "    <tr>\n",
       "      <th>2</th>\n",
       "      <td>2</td>\n",
       "      <td>11B PW Equity</td>\n",
       "      <td>11 bit studios SA</td>\n",
       "      <td>2007</td>\n",
       "      <td>21.127613</td>\n",
       "      <td>1.24185</td>\n",
       "      <td>6.329725</td>\n",
       "      <td>0.19</td>\n",
       "      <td>0.0</td>\n",
       "      <td>5.087900</td>\n",
       "      <td>...</td>\n",
       "      <td>0.013076</td>\n",
       "      <td>0.445954</td>\n",
       "      <td>0.574744</td>\n",
       "      <td>0.240818</td>\n",
       "      <td>0.000000</td>\n",
       "      <td>0.198598</td>\n",
       "      <td>0.013076</td>\n",
       "      <td>0.445954</td>\n",
       "      <td>0.574744</td>\n",
       "      <td>1</td>\n",
       "    </tr>\n",
       "    <tr>\n",
       "      <th>3</th>\n",
       "      <td>3</td>\n",
       "      <td>11B PW Equity</td>\n",
       "      <td>11 bit studios SA</td>\n",
       "      <td>2008</td>\n",
       "      <td>21.127613</td>\n",
       "      <td>1.24185</td>\n",
       "      <td>6.329725</td>\n",
       "      <td>0.19</td>\n",
       "      <td>0.0</td>\n",
       "      <td>5.087900</td>\n",
       "      <td>...</td>\n",
       "      <td>0.013076</td>\n",
       "      <td>0.445954</td>\n",
       "      <td>0.574744</td>\n",
       "      <td>0.240818</td>\n",
       "      <td>0.000000</td>\n",
       "      <td>0.198598</td>\n",
       "      <td>0.013076</td>\n",
       "      <td>0.445954</td>\n",
       "      <td>0.574744</td>\n",
       "      <td>1</td>\n",
       "    </tr>\n",
       "    <tr>\n",
       "      <th>4</th>\n",
       "      <td>4</td>\n",
       "      <td>11B PW Equity</td>\n",
       "      <td>11 bit studios SA</td>\n",
       "      <td>2009</td>\n",
       "      <td>21.127613</td>\n",
       "      <td>1.24185</td>\n",
       "      <td>6.329725</td>\n",
       "      <td>0.19</td>\n",
       "      <td>0.0</td>\n",
       "      <td>5.087900</td>\n",
       "      <td>...</td>\n",
       "      <td>0.013076</td>\n",
       "      <td>0.445954</td>\n",
       "      <td>0.574744</td>\n",
       "      <td>0.240818</td>\n",
       "      <td>0.000000</td>\n",
       "      <td>0.198598</td>\n",
       "      <td>0.013076</td>\n",
       "      <td>0.445954</td>\n",
       "      <td>0.574744</td>\n",
       "      <td>1</td>\n",
       "    </tr>\n",
       "    <tr>\n",
       "      <th>...</th>\n",
       "      <td>...</td>\n",
       "      <td>...</td>\n",
       "      <td>...</td>\n",
       "      <td>...</td>\n",
       "      <td>...</td>\n",
       "      <td>...</td>\n",
       "      <td>...</td>\n",
       "      <td>...</td>\n",
       "      <td>...</td>\n",
       "      <td>...</td>\n",
       "      <td>...</td>\n",
       "      <td>...</td>\n",
       "      <td>...</td>\n",
       "      <td>...</td>\n",
       "      <td>...</td>\n",
       "      <td>...</td>\n",
       "      <td>...</td>\n",
       "      <td>...</td>\n",
       "      <td>...</td>\n",
       "      <td>...</td>\n",
       "      <td>...</td>\n",
       "    </tr>\n",
       "    <tr>\n",
       "      <th>3988</th>\n",
       "      <td>4350</td>\n",
       "      <td>ZMT PW Equity</td>\n",
       "      <td>Zamet Industry SA</td>\n",
       "      <td>2011</td>\n",
       "      <td>203.889008</td>\n",
       "      <td>7.99200</td>\n",
       "      <td>32.415001</td>\n",
       "      <td>0.19</td>\n",
       "      <td>0.0</td>\n",
       "      <td>24.423000</td>\n",
       "      <td>...</td>\n",
       "      <td>0.408827</td>\n",
       "      <td>0.478225</td>\n",
       "      <td>0.213261</td>\n",
       "      <td>0.009109</td>\n",
       "      <td>0.177858</td>\n",
       "      <td>0.079454</td>\n",
       "      <td>0.400440</td>\n",
       "      <td>0.337819</td>\n",
       "      <td>0.171171</td>\n",
       "      <td>1</td>\n",
       "    </tr>\n",
       "    <tr>\n",
       "      <th>3989</th>\n",
       "      <td>4351</td>\n",
       "      <td>ZMT PW Equity</td>\n",
       "      <td>Zamet Industry SA</td>\n",
       "      <td>2012</td>\n",
       "      <td>176.524002</td>\n",
       "      <td>7.32400</td>\n",
       "      <td>36.959999</td>\n",
       "      <td>0.19</td>\n",
       "      <td>0.0</td>\n",
       "      <td>29.636000</td>\n",
       "      <td>...</td>\n",
       "      <td>0.385654</td>\n",
       "      <td>0.463679</td>\n",
       "      <td>0.144478</td>\n",
       "      <td>0.119786</td>\n",
       "      <td>0.132538</td>\n",
       "      <td>0.077758</td>\n",
       "      <td>0.370868</td>\n",
       "      <td>0.589539</td>\n",
       "      <td>0.117785</td>\n",
       "      <td>1</td>\n",
       "    </tr>\n",
       "    <tr>\n",
       "      <th>3990</th>\n",
       "      <td>4352</td>\n",
       "      <td>ZMT PW Equity</td>\n",
       "      <td>Zamet Industry SA</td>\n",
       "      <td>2013</td>\n",
       "      <td>218.889008</td>\n",
       "      <td>7.08800</td>\n",
       "      <td>36.972000</td>\n",
       "      <td>0.19</td>\n",
       "      <td>0.0</td>\n",
       "      <td>29.884001</td>\n",
       "      <td>...</td>\n",
       "      <td>0.387800</td>\n",
       "      <td>0.631418</td>\n",
       "      <td>0.086577</td>\n",
       "      <td>0.167887</td>\n",
       "      <td>0.081224</td>\n",
       "      <td>0.090118</td>\n",
       "      <td>0.404732</td>\n",
       "      <td>0.673297</td>\n",
       "      <td>0.055369</td>\n",
       "      <td>2</td>\n",
       "    </tr>\n",
       "    <tr>\n",
       "      <th>3991</th>\n",
       "      <td>4353</td>\n",
       "      <td>ZMT PW Equity</td>\n",
       "      <td>Zamet Industry SA</td>\n",
       "      <td>2014</td>\n",
       "      <td>264.322998</td>\n",
       "      <td>4.07900</td>\n",
       "      <td>29.132000</td>\n",
       "      <td>0.19</td>\n",
       "      <td>0.0</td>\n",
       "      <td>25.052999</td>\n",
       "      <td>...</td>\n",
       "      <td>0.364668</td>\n",
       "      <td>0.645137</td>\n",
       "      <td>0.032996</td>\n",
       "      <td>0.136526</td>\n",
       "      <td>0.175235</td>\n",
       "      <td>0.075266</td>\n",
       "      <td>0.324603</td>\n",
       "      <td>0.616978</td>\n",
       "      <td>0.010622</td>\n",
       "      <td>1</td>\n",
       "    </tr>\n",
       "    <tr>\n",
       "      <th>3992</th>\n",
       "      <td>4354</td>\n",
       "      <td>ZMT PW Equity</td>\n",
       "      <td>Zamet Industry SA</td>\n",
       "      <td>2015</td>\n",
       "      <td>265.816010</td>\n",
       "      <td>3.33400</td>\n",
       "      <td>17.288000</td>\n",
       "      <td>0.19</td>\n",
       "      <td>0.0</td>\n",
       "      <td>13.954000</td>\n",
       "      <td>...</td>\n",
       "      <td>0.380495</td>\n",
       "      <td>0.608379</td>\n",
       "      <td>0.011860</td>\n",
       "      <td>0.094782</td>\n",
       "      <td>0.131998</td>\n",
       "      <td>0.064837</td>\n",
       "      <td>0.436387</td>\n",
       "      <td>0.599780</td>\n",
       "      <td>0.013098</td>\n",
       "      <td>1</td>\n",
       "    </tr>\n",
       "  </tbody>\n",
       "</table>\n",
       "<p>3993 rows × 117 columns</p>\n",
       "</div>"
      ]
     },
     "execution_count": 7,
     "metadata": {},
     "output_type": "execute_result"
    }
   ],
   "execution_count": 7
  },
  {
   "metadata": {
    "ExecuteTime": {
     "end_time": "2025-10-10T09:19:29.841455Z",
     "start_time": "2025-10-10T09:19:29.834378Z"
    }
   },
   "cell_type": "code",
   "source": [
    "def sort_df(df):\n",
    "    return df.sort_values(by=['Ticker', 'rok']).reset_index(drop=True)\n",
    "\n",
    "train_fe = sort_df(train_fe)\n",
    "test_fe = sort_df(test_fe)"
   ],
   "id": "b47043dc999f44b8",
   "outputs": [],
   "execution_count": 8
  },
  {
   "metadata": {
    "ExecuteTime": {
     "end_time": "2025-10-10T09:19:30.016035Z",
     "start_time": "2025-10-10T09:19:29.996007Z"
    }
   },
   "cell_type": "code",
   "source": [
    "def select_features(df):\n",
    "    df.dropna(subset=['target'], inplace=True)\n",
    "    y = df['target'].astype(int)\n",
    "    EXCLUDE_FEATURES = ['Unnamed: 0', 'Ticker', 'rok', 'Nazwa2', 'etr', 'target']\n",
    "    X = df.drop(columns=EXCLUDE_FEATURES, errors='ignore')\n",
    "    return X, y,\n",
    "\n",
    "X_train, y_train = select_features(train_fe)\n",
    "X_test, y_test = select_features(test_fe)\n",
    "\n",
    "print(f\"Train shapes: X={X_train.shape}, y={y_train.shape}\")\n",
    "print(f\"Test shapes:  X={X_test.shape}, y={y_test.shape}\")"
   ],
   "id": "89a0bf4735294314",
   "outputs": [
    {
     "name": "stdout",
     "output_type": "stream",
     "text": [
      "Train shapes: X=(3993, 111), y=(3993,)\n",
      "Test shapes:  X=(363, 111), y=(363,)\n"
     ]
    }
   ],
   "execution_count": 9
  },
  {
   "metadata": {},
   "cell_type": "markdown",
   "source": "### Identify categorical and numeric features",
   "id": "2541f44dab57427a"
  },
  {
   "metadata": {
    "ExecuteTime": {
     "end_time": "2025-10-10T09:19:30.406391Z",
     "start_time": "2025-10-10T09:19:30.395527Z"
    }
   },
   "cell_type": "code",
   "source": [
    "def identify_feature_types(df):\n",
    "\n",
    "    numeric_features = df.select_dtypes(include=np.number).columns.tolist()\n",
    "    categorical_features = df.select_dtypes(include=['object', 'category']).columns.tolist()\n",
    "\n",
    "    # 数値型だが実質カテゴリな列を移動（閾値は 10）\n",
    "    low_cardinality_numeric = [col for col in numeric_features if df[col].nunique() <= 10]\n",
    "\n",
    "    numeric_features = [col for col in numeric_features if col not in low_cardinality_numeric]\n",
    "    categorical_features.extend(low_cardinality_numeric)\n",
    "\n",
    "    return numeric_features, list(set(categorical_features))\n",
    "\n",
    "numeric_cols, categorical_cols = identify_feature_types(X_train)\n",
    "print(f\"Numeric features ({len(numeric_cols)}): {numeric_cols[:5]}...\")\n",
    "print(f\"Categorical features ({len(categorical_cols)}): {categorical_cols[:5]}...\")"
   ],
   "id": "2198ab041cc4152a",
   "outputs": [
    {
     "name": "stdout",
     "output_type": "stream",
     "text": [
      "Numeric features (56): ['ta', 'txt', 'pi', 'str', 'xrd']...\n",
      "Categorical features (55): ['xrd_exists', 'sektor_consumer staples', 'gielda_5', 'dltt_cat_(327.85, 876.617]', 'sektor_utilities']...\n"
     ]
    }
   ],
   "execution_count": 10
  },
  {
   "metadata": {},
   "cell_type": "markdown",
   "source": "### Scaling",
   "id": "ecd9b5799fd6bb7d"
  },
  {
   "metadata": {
    "ExecuteTime": {
     "end_time": "2025-10-10T09:19:30.532777Z",
     "start_time": "2025-10-10T09:19:30.462990Z"
    }
   },
   "cell_type": "code",
   "source": [
    "numeric_transformer = StandardScaler()\n",
    "categorical_transformer = OneHotEncoder(handle_unknown='ignore')\n",
    "\n",
    "preprocessor = ColumnTransformer(\n",
    "    transformers=[\n",
    "        ('num', numeric_transformer, numeric_cols),\n",
    "        ('cat', categorical_transformer, categorical_cols)\n",
    "    ],\n",
    "    remainder='passthrough'\n",
    ")"
   ],
   "id": "372025a7ea454e66",
   "outputs": [],
   "execution_count": 11
  },
  {
   "metadata": {},
   "cell_type": "markdown",
   "source": "## Model Training",
   "id": "655862f236b5fd0e"
  },
  {
   "metadata": {
    "ExecuteTime": {
     "end_time": "2025-10-10T09:19:30.773915Z",
     "start_time": "2025-10-10T09:19:30.575713Z"
    }
   },
   "cell_type": "code",
   "source": [
    "tscv = TimeSeriesSplit(n_splits=5)\n",
    "fitted_models = {}"
   ],
   "id": "a84d4a236efb81dc",
   "outputs": [],
   "execution_count": 12
  },
  {
   "metadata": {
    "ExecuteTime": {
     "end_time": "2025-10-10T09:19:30.912425Z",
     "start_time": "2025-10-10T09:19:30.858907Z"
    }
   },
   "cell_type": "code",
   "source": [
    "X_train_transformed = preprocessor.fit_transform(X_train)\n",
    "\n",
    "total_transformed_features = X_train_transformed.shape[1]\n",
    "print(f\"Transformed feature count (after ColumnTransformer): {total_transformed_features}\")\n",
    "\n",
    "\n",
    "if total_transformed_features > 10:\n",
    "    n_features_to_select = 10\n",
    "else:\n",
    "    n_features_to_select = max(1, int(total_transformed_features * 0.8))\n",
    "\n",
    "print(f\"Will select n_features_to_select = {n_features_to_select} (SFS)\")\n",
    "\n",
    "\n",
    "selector_estimator = LogisticRegression(max_iter=2000, class_weight='balanced', solver='liblinear', random_state=42)"
   ],
   "id": "a0493a6d45c0daf",
   "outputs": [
    {
     "name": "stdout",
     "output_type": "stream",
     "text": [
      "Transformed feature count (after ColumnTransformer): 165\n",
      "Will select n_features_to_select = 10 (SFS)\n"
     ]
    }
   ],
   "execution_count": 13
  },
  {
   "metadata": {},
   "cell_type": "markdown",
   "source": "### Sequential feature selection",
   "id": "a5bb0cd7c399ac05"
  },
  {
   "metadata": {
    "ExecuteTime": {
     "end_time": "2025-10-10T09:19:30.979364Z",
     "start_time": "2025-10-10T09:19:30.976656Z"
    }
   },
   "cell_type": "code",
   "source": [
    "from copy import deepcopy\n",
    "def make_pipeline_with_sfs(model, cv_obj):\n",
    "\n",
    "    sfs = SequentialFeatureSelector(\n",
    "        estimator=deepcopy(selector_estimator),\n",
    "        n_features_to_select=n_features_to_select,\n",
    "        direction='forward',\n",
    "        scoring='f1_macro',\n",
    "        cv=cv_obj,\n",
    "        n_jobs=-1\n",
    "    )\n",
    "\n",
    "    pipe = Pipeline(steps=[\n",
    "        ('preprocessor', preprocessor),\n",
    "        ('feature_selector', sfs),\n",
    "        ('model', model)\n",
    "    ])\n",
    "    return pipe\n"
   ],
   "id": "8d40f7d4831e7dd2",
   "outputs": [],
   "execution_count": 14
  },
  {
   "metadata": {},
   "cell_type": "markdown",
   "source": "### Logistic Regression",
   "id": "8aa2a19e2309856f"
  },
  {
   "metadata": {
    "ExecuteTime": {
     "end_time": "2025-10-10T09:32:28.006723Z",
     "start_time": "2025-10-10T09:21:54.954346Z"
    }
   },
   "cell_type": "code",
   "source": [
    "lr_model = LogisticRegression(random_state=42, max_iter=2000, class_weight='balanced')\n",
    "\n",
    "lr_params = [\n",
    "    {'model__solver': ['liblinear'], 'model__penalty': ['l1', 'l2'], 'model__C': [0.1, 1, 10], 'model__max_iter': [2000]},\n",
    "    {'model__solver': ['saga'], 'model__penalty': ['l1', 'l2'], 'model__C': [0.1, 1, 10], 'model__max_iter': [5000, 10000]}\n",
    "]\n",
    "\n",
    "pipeline_lr_tscv = make_pipeline_with_sfs(deepcopy(lr_model), tscv)\n",
    "gs_lr_tscv = GridSearchCV(pipeline_lr_tscv, lr_params, cv=tscv, scoring='f1_macro', n_jobs=-1, verbose=1)\n",
    "gs_lr_tscv.fit(X_train, y_train)\n",
    "\n",
    "fitted_models['Logistic Regression_tscv'] = gs_lr_tscv\n",
    "\n",
    "print(\"\\n--- Logistic Regression Results ---\")\n",
    "\n",
    "print(f\"Best parameters for tscv: {gs_lr_tscv.best_params_}\")\n",
    "print(f\"Best CV F1 Macro score for tscv: {gs_lr_tscv.best_score_:.4f}\")"
   ],
   "id": "fed8bcbd3403dea6",
   "outputs": [
    {
     "name": "stdout",
     "output_type": "stream",
     "text": [
      "Fitting 5 folds for each of 18 candidates, totalling 90 fits\n",
      "\n",
      "--- Logistic Regression Results ---\n",
      "Best parameters for tscv: {'model__C': 0.1, 'model__max_iter': 2000, 'model__penalty': 'l1', 'model__solver': 'liblinear'}\n",
      "Best CV F1 Macro score for tscv: 0.6460\n"
     ]
    }
   ],
   "execution_count": 16
  },
  {
   "metadata": {},
   "cell_type": "markdown",
   "source": "### KNN Classifier",
   "id": "c6f1bd3dfac8f868"
  },
  {
   "metadata": {
    "SqlCellData": {
     "variableName$1": "df_sql1"
    }
   },
   "cell_type": "code",
   "outputs": [],
   "execution_count": null,
   "source": "%%sql\n",
   "id": "62bbaddcc30a8c01"
  },
  {
   "metadata": {
    "ExecuteTime": {
     "end_time": "2025-10-10T09:50:14.475499Z",
     "start_time": "2025-10-10T09:41:46.748792Z"
    }
   },
   "cell_type": "code",
   "source": [
    "knn_model = KNeighborsClassifier()\n",
    "knn_params = {\n",
    "    'model__n_neighbors': [5, 9, 13],\n",
    "    'model__weights': ['uniform', 'distance'],\n",
    "    'model__metric': ['minkowski', 'manhattan']\n",
    "}\n",
    "\n",
    "\n",
    "pipeline_knn_tscv = make_pipeline_with_sfs(deepcopy(knn_model), tscv)\n",
    "gs_knn_tscv = GridSearchCV(pipeline_knn_tscv, knn_params, cv=tscv, scoring='f1_macro', n_jobs=-1, verbose=1)\n",
    "gs_knn_tscv.fit(X_train, y_train)\n",
    "\n",
    "\n",
    "fitted_models['KNN_tscv'] = gs_knn_tscv\n",
    "\n",
    "print(\"\\n--- KNN Results ---\")\n",
    "\n",
    "print(f\"Best CV F1 Macro score (tscv): {gs_knn_tscv.best_score_:.4f} with params {gs_knn_tscv.best_params_}\")"
   ],
   "id": "f4c9d2f010741989",
   "outputs": [
    {
     "name": "stdout",
     "output_type": "stream",
     "text": [
      "Fitting 5 folds for each of 12 candidates, totalling 60 fits\n",
      "\n",
      "--- KNN Results ---\n",
      "Best CV F1 Macro score (tscv): 0.6400 with params {'model__metric': 'minkowski', 'model__n_neighbors': 13, 'model__weights': 'uniform'}\n"
     ]
    }
   ],
   "execution_count": 17
  },
  {
   "metadata": {},
   "cell_type": "markdown",
   "source": "### SVC",
   "id": "f20200724dd76920"
  },
  {
   "metadata": {
    "ExecuteTime": {
     "end_time": "2025-10-10T09:55:33.700597Z",
     "start_time": "2025-10-10T09:50:16.711881Z"
    }
   },
   "cell_type": "code",
   "source": [
    "svc_model = SVC(random_state=42, class_weight='balanced', probability=True)\n",
    "svc_params = {\n",
    "    'model__C': [0.1, 1, 10],\n",
    "    'model__kernel': ['rbf', 'linear'],\n",
    "    'model__gamma': ['scale']\n",
    "}\n",
    "\n",
    "pipeline_svc_tscv = make_pipeline_with_sfs(deepcopy(svc_model), tscv)\n",
    "gs_svc_tscv = GridSearchCV(pipeline_svc_tscv, svc_params, cv=tscv, scoring='f1_macro', n_jobs=-1, verbose=2)\n",
    "gs_svc_tscv.fit(X_train, y_train)\n",
    "\n",
    "\n",
    "fitted_models['SVC_tscv'] = gs_svc_tscv\n",
    "\n",
    "print(\"\\n--- SVC Results ---\")\n",
    "print(f\"Best CV F1 Macro score (tscv): {gs_svc_tscv.best_score_:.4f} with params {gs_svc_tscv.best_params_}\")"
   ],
   "id": "17cf1fa61247ce32",
   "outputs": [
    {
     "name": "stdout",
     "output_type": "stream",
     "text": [
      "Fitting 5 folds for each of 6 candidates, totalling 30 fits\n",
      "[CV] END model__C=0.1, model__gamma=scale, model__kernel=linear; total time= 1.1min\n",
      "[CV] END model__C=0.1, model__gamma=scale, model__kernel=rbf; total time= 1.1min\n",
      "[CV] END model__C=0.1, model__gamma=scale, model__kernel=linear; total time= 1.2min\n",
      "[CV] END model__C=0.1, model__gamma=scale, model__kernel=rbf; total time= 1.2min\n",
      "[CV] END model__C=0.1, model__gamma=scale, model__kernel=linear; total time= 1.3min\n",
      "[CV] END model__C=0.1, model__gamma=scale, model__kernel=rbf; total time= 1.3min\n",
      "[CV] END model__C=0.1, model__gamma=scale, model__kernel=rbf; total time= 1.4min\n",
      "[CV] END model__C=0.1, model__gamma=scale, model__kernel=rbf; total time= 1.4min\n",
      "[CV] END ..model__C=1, model__gamma=scale, model__kernel=rbf; total time= 1.0min\n",
      "[CV] END ..model__C=1, model__gamma=scale, model__kernel=rbf; total time= 1.1min\n",
      "[CV] END model__C=0.1, model__gamma=scale, model__kernel=linear; total time= 1.3min\n",
      "[CV] END model__C=1, model__gamma=scale, model__kernel=linear; total time= 1.0min\n",
      "[CV] END ..model__C=1, model__gamma=scale, model__kernel=rbf; total time= 1.1min\n",
      "[CV] END model__C=0.1, model__gamma=scale, model__kernel=linear; total time= 1.3min\n",
      "[CV] END ..model__C=1, model__gamma=scale, model__kernel=rbf; total time= 1.2min\n",
      "[CV] END ..model__C=1, model__gamma=scale, model__kernel=rbf; total time= 1.3min\n",
      "[CV] END model__C=1, model__gamma=scale, model__kernel=linear; total time= 1.1min\n",
      "[CV] END .model__C=10, model__gamma=scale, model__kernel=rbf; total time= 1.1min\n",
      "[CV] END model__C=1, model__gamma=scale, model__kernel=linear; total time= 1.3min\n",
      "[CV] END .model__C=10, model__gamma=scale, model__kernel=rbf; total time= 1.2min\n",
      "[CV] END model__C=1, model__gamma=scale, model__kernel=linear; total time= 1.3min\n",
      "[CV] END .model__C=10, model__gamma=scale, model__kernel=rbf; total time= 1.2min\n",
      "[CV] END model__C=1, model__gamma=scale, model__kernel=linear; total time= 1.4min\n",
      "[CV] END .model__C=10, model__gamma=scale, model__kernel=rbf; total time= 1.3min\n",
      "[CV] END model__C=10, model__gamma=scale, model__kernel=linear; total time=  56.5s\n",
      "[CV] END model__C=10, model__gamma=scale, model__kernel=linear; total time=  57.5s\n",
      "[CV] END .model__C=10, model__gamma=scale, model__kernel=rbf; total time= 1.2min\n",
      "[CV] END model__C=10, model__gamma=scale, model__kernel=linear; total time=  56.9s\n",
      "[CV] END model__C=10, model__gamma=scale, model__kernel=linear; total time=  57.3s\n",
      "[CV] END model__C=10, model__gamma=scale, model__kernel=linear; total time=  57.3s\n",
      "\n",
      "--- SVC Results ---\n",
      "Best CV F1 Macro score (tscv): 0.6455 with params {'model__C': 10, 'model__gamma': 'scale', 'model__kernel': 'rbf'}\n"
     ]
    }
   ],
   "execution_count": 18
  },
  {
   "metadata": {},
   "cell_type": "markdown",
   "source": "### Final Evaluation",
   "id": "e3f5db4abad6975f"
  },
  {
   "metadata": {},
   "cell_type": "markdown",
   "source": "### Select the best model based on validation performance",
   "id": "efbaf89fa831af1c"
  },
  {
   "metadata": {
    "ExecuteTime": {
     "end_time": "2025-10-10T09:55:34.933604Z",
     "start_time": "2025-10-10T09:55:34.901928Z"
    }
   },
   "cell_type": "code",
   "source": [
    "if not fitted_models:\n",
    "    print(\"No models have been trained yet. Please run the training cells first.\")\n",
    "else:\n",
    "\n",
    "    best_model_name = max(fitted_models, key=lambda name: fitted_models[name].best_score_)\n",
    "\n",
    "\n",
    "    best_model_grid = fitted_models[best_model_name]\n",
    "\n",
    "\n",
    "    best_model = best_model_grid.best_estimator_\n",
    "\n",
    "    print(f\"✅ Best performing model and CV strategy: {best_model_name}\")\n",
    "    print(f\"   - CV F1 Macro Score: {best_model_grid.best_score_:.4f}\")\n",
    "    print(f\"   - Best Parameters: {best_model_grid.best_params_}\")"
   ],
   "id": "2c0ac77dc4b51fde",
   "outputs": [
    {
     "name": "stdout",
     "output_type": "stream",
     "text": [
      "✅ Best performing model and CV strategy: Logistic Regression_tscv\n",
      "   - CV F1 Macro Score: 0.6460\n",
      "   - Best Parameters: {'model__C': 0.1, 'model__max_iter': 2000, 'model__penalty': 'l1', 'model__solver': 'liblinear'}\n"
     ]
    }
   ],
   "execution_count": 19
  },
  {
   "metadata": {},
   "cell_type": "markdown",
   "source": "### Evaluate on the test set\n",
   "id": "39ffd03eaf4381b3"
  },
  {
   "metadata": {
    "ExecuteTime": {
     "end_time": "2025-10-10T09:55:35.798758Z",
     "start_time": "2025-10-10T09:55:35.198288Z"
    }
   },
   "cell_type": "code",
   "source": [
    "if 'best_model' not in locals():\n",
    "     print(\"Best model not selected yet. Please run the selection cell first.\")\n",
    "else:\n",
    "\n",
    "    y_pred = best_model.predict(X_test)\n",
    "\n",
    "    print(f\"--- Final Evaluation on Test Set ({best_model_name}) ---\")\n",
    "\n",
    "    print(f\"Accuracy: {accuracy_score(y_test, y_pred):.4f}\\n\")\n",
    "\n",
    "    print(\"Classification Report:\")\n",
    "    print(classification_report(y_test, y_pred, target_names=['Class 0 (Low)', 'Class 1 (Medium)', 'Class 2 (High)']))\n",
    "\n",
    "    print(\"Confusion Matrix:\")\n",
    "    ConfusionMatrixDisplay.from_estimator(best_model, X_test, y_test,\n",
    "                                          display_labels=['Low', 'Medium', 'High'],\n",
    "                                          cmap='Blues')\n",
    "    plt.show()\n"
   ],
   "id": "a25b9544f12a32b1",
   "outputs": [
    {
     "name": "stdout",
     "output_type": "stream",
     "text": [
      "--- Final Evaluation on Test Set (Logistic Regression_tscv) ---\n",
      "Accuracy: 0.6061\n",
      "\n",
      "Classification Report:\n",
      "                  precision    recall  f1-score   support\n",
      "\n",
      "   Class 0 (Low)       0.54      0.56      0.55       103\n",
      "Class 1 (Medium)       0.75      0.65      0.69       195\n",
      "  Class 2 (High)       0.41      0.55      0.47        65\n",
      "\n",
      "        accuracy                           0.61       363\n",
      "       macro avg       0.57      0.59      0.57       363\n",
      "    weighted avg       0.63      0.61      0.61       363\n",
      "\n",
      "Confusion Matrix:\n"
     ]
    },
    {
     "data": {
      "text/plain": [
       "<Figure size 640x480 with 2 Axes>"
      ],
      "image/png": "[encoded data removed]"
     },
     "metadata": {},
     "output_type": "display_data"
    }
   ],
   "execution_count": 20
  },
  {
   "metadata": {},
   "cell_type": "markdown",
   "source": "### Compare results across all three models",
   "id": "91665ea546ef26b6"
  },
  {
   "metadata": {
    "ExecuteTime": {
     "end_time": "2025-10-10T09:55:36.198657Z",
     "start_time": "2025-10-10T09:55:36.012311Z"
    }
   },
   "cell_type": "code",
   "source": [
    "if not fitted_models:\n",
    "    print(\"No models have been trained yet. Please run the training cells first.\")\n",
    "else:\n",
    "    results = []\n",
    "\n",
    "    for name, model_grid in fitted_models.items():\n",
    "        model_pred = model_grid.predict(X_test)\n",
    "\n",
    "        results.append({\n",
    "            'Model & CV Strategy': name,\n",
    "            'Best CV F1 Macro': model_grid.best_score_,\n",
    "            'Test Set Accuracy': accuracy_score(y_test, model_pred),\n",
    "            'Best Params': model_grid.best_params_\n",
    "        })\n",
    "\n",
    "    results_df = pd.DataFrame(results).sort_values(by='Best CV F1 Macro', ascending=False)\n",
    "\n",
    "    print(\"\\n--- Model Comparison Summary ---\")\n",
    "    display(results_df)\n",
    "\n",
    "    if 'best_model' in locals():\n",
    "        print(\"\\n--- Saving the Best Model ---\")\n",
    "        os.makedirs('models', exist_ok=True)\n",
    "        model_filename = f'models/best_{best_model_name.replace(\" \", \"_\").lower()}_model.pkl'\n",
    "        joblib.dump(best_model, model_filename)\n",
    "        print(f\"Best model ({best_model_name}) saved to: {model_filename}\")"
   ],
   "id": "8e6a32b4c1ea86ee",
   "outputs": [
    {
     "name": "stdout",
     "output_type": "stream",
     "text": [
      "\n",
      "--- Model Comparison Summary ---\n"
     ]
    },
    {
     "data": {
      "text/plain": [
       "        Model & CV Strategy  Best CV F1 Macro  Test Set Accuracy  \\\n",
       "0  Logistic Regression_tscv          0.645953           0.606061   \n",
       "2                  SVC_tscv          0.645466           0.603306   \n",
       "1                  KNN_tscv          0.640023           0.586777   \n",
       "\n",
       "                                         Best Params  \n",
       "0  {'model__C': 0.1, 'model__max_iter': 2000, 'mo...  \n",
       "2  {'model__C': 10, 'model__gamma': 'scale', 'mod...  \n",
       "1  {'model__metric': 'minkowski', 'model__n_neigh...  "
      ],
      "text/html": [
       "<div>\n",
       "<style scoped>\n",
       "    .dataframe tbody tr th:only-of-type {\n",
       "        vertical-align: middle;\n",
       "    }\n",
       "\n",
       "    .dataframe tbody tr th {\n",
       "        vertical-align: top;\n",
       "    }\n",
       "\n",
       "    .dataframe thead th {\n",
       "        text-align: right;\n",
       "    }\n",
       "</style>\n",
       "<table border=\"1\" class=\"dataframe\">\n",
       "  <thead>\n",
       "    <tr style=\"text-align: right;\">\n",
       "      <th></th>\n",
       "      <th>Model &amp; CV Strategy</th>\n",
       "      <th>Best CV F1 Macro</th>\n",
       "      <th>Test Set Accuracy</th>\n",
       "      <th>Best Params</th>\n",
       "    </tr>\n",
       "  </thead>\n",
       "  <tbody>\n",
       "    <tr>\n",
       "      <th>0</th>\n",
       "      <td>Logistic Regression_tscv</td>\n",
       "      <td>0.645953</td>\n",
       "      <td>0.606061</td>\n",
       "      <td>{'model__C': 0.1, 'model__max_iter': 2000, 'mo...</td>\n",
       "    </tr>\n",
       "    <tr>\n",
       "      <th>2</th>\n",
       "      <td>SVC_tscv</td>\n",
       "      <td>0.645466</td>\n",
       "      <td>0.603306</td>\n",
       "      <td>{'model__C': 10, 'model__gamma': 'scale', 'mod...</td>\n",
       "    </tr>\n",
       "    <tr>\n",
       "      <th>1</th>\n",
       "      <td>KNN_tscv</td>\n",
       "      <td>0.640023</td>\n",
       "      <td>0.586777</td>\n",
       "      <td>{'model__metric': 'minkowski', 'model__n_neigh...</td>\n",
       "    </tr>\n",
       "  </tbody>\n",
       "</table>\n",
       "</div>"
      ]
     },
     "metadata": {},
     "output_type": "display_data"
    },
    {
     "name": "stdout",
     "output_type": "stream",
     "text": [
      "\n",
      "--- Saving the Best Model ---\n",
      "Best model (Logistic Regression_tscv) saved to: models/best_logistic_regression_tscv_model.pkl\n"
     ]
    }
   ],
   "execution_count": 21
  },
  {
   "metadata": {},
   "cell_type": "markdown",
   "source": "## Brief Interpretation",
   "id": "3cf75e303bade6d5"
  },
  {
   "metadata": {},
   "cell_type": "markdown",
   "source": "Among the evaluated models, Logistic Regression performed best, achieving the highest cross-validation F1 Macro score of 0.6460. On the final test set, this model proved most effective at identifying the majority 'Medium' avoidance class but struggled significantly with predicting the minority 'High' avoidance class. This suggests that while the model provides a reasonable baseline, its practical ability to flag high-risk cases is limited, likely due to class imbalance, and would require further refinement.",
   "id": "954ce2d335799fd5"
  }
 ],
 "metadata": {
  "kernelspec": {
   "display_name": "Python 3",
   "language": "python",
   "name": "python3"
  },
  "language_info": {
   "codemirror_mode": {
    "name": "ipython",
    "version": 2
   },
   "file_extension": ".py",
   "mimetype": "text/x-python",
   "name": "python",
   "nbconvert_exporter": "python",
   "pygments_lexer": "ipython2",
   "version": "2.7.6"
  }
 },
 "nbformat": 4,
 "nbformat_minor": 5
}
