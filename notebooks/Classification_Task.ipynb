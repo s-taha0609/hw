{
 "cells": [
  {
   "metadata": {},
   "cell_type": "markdown",
   "source": "# Predicting Tax Avoidance Categories",
   "id": "d55cf9e186b51897"
  },
  {
   "metadata": {},
   "cell_type": "markdown",
   "source": "## Data Preparation",
   "id": "c352d9cc4842ee81"
  },
  {
   "metadata": {
    "ExecuteTime": {
     "end_time": "2025-10-03T11:24:32.737787Z",
     "start_time": "2025-10-03T11:24:32.733024Z"
    }
   },
   "cell_type": "code",
   "source": [
    "import pandas as pd\n",
    "import matplotlib.pyplot as plt\n",
    "import seaborn as sns\n",
    "import statsmodels.api as sm"
   ],
   "id": "674e0495e135d775",
   "outputs": [],
   "execution_count": 35
  },
  {
   "metadata": {},
   "cell_type": "markdown",
   "source": "### 1. Load the prepared datasets",
   "id": "6322d9835e4d03ac"
  },
  {
   "metadata": {
    "ExecuteTime": {
     "end_time": "2025-10-03T11:24:33.598156Z",
     "start_time": "2025-10-03T11:24:33.504837Z"
    }
   },
   "cell_type": "code",
   "source": [
    "train_fe = pd.read_csv('../data/train_fe.csv')\n",
    "test_fe = pd.read_csv('../data/test_fe.csv')\n",
    "\n",
    "train_fe.sample(10)\n",
    "test_fe.sample(10)\n",
    "\n",
    "train_fe.info()\n",
    "test_fe.info()"
   ],
   "id": "9acfcd26f3d762d9",
   "outputs": [
    {
     "name": "stdout",
     "output_type": "stream",
     "text": [
      "<class 'pandas.core.frame.DataFrame'>\n",
      "RangeIndex: 3993 entries, 0 to 3992\n",
      "Columns: 116 entries, Unnamed: 0 to cash_holdings_past\n",
      "dtypes: float64(57), int64(57), object(2)\n",
      "memory usage: 3.5+ MB\n",
      "<class 'pandas.core.frame.DataFrame'>\n",
      "RangeIndex: 363 entries, 0 to 362\n",
      "Columns: 116 entries, Unnamed: 0 to cash_holdings_past\n",
      "dtypes: float64(57), int64(57), object(2)\n",
      "memory usage: 329.1+ KB\n"
     ]
    }
   ],
   "execution_count": 36
  },
  {
   "metadata": {},
   "cell_type": "markdown",
   "source": "### 2.Create the target classification variable",
   "id": "98b2381b91c82f0"
  },
  {
   "metadata": {
    "ExecuteTime": {
     "end_time": "2025-10-03T11:24:34.261804Z",
     "start_time": "2025-10-03T11:24:34.258156Z"
    }
   },
   "cell_type": "code",
   "source": [
    "def create_target(df):\n",
    "    etr_classification = []\n",
    "\n",
    "\n",
    "    for col in df['etr']:\n",
    "        if col > 0.25:\n",
    "            etr_classification.append(0)\n",
    "        if (col <= 0.25) & (col > 0.15):\n",
    "            etr_classification.append(1)\n",
    "        if col <= 0.15:\n",
    "            etr_classification.append(2)\n",
    "\n",
    "    df['target'] = etr_classification\n",
    "\n",
    "\n",
    "    print(df['target'].head(10))\n",
    "    print(df['target'].tail(10))\n",
    "\n",
    "    return df.copy()"
   ],
   "id": "5bca8c38e78851c6",
   "outputs": [],
   "execution_count": 37
  },
  {
   "metadata": {
    "ExecuteTime": {
     "end_time": "2025-10-03T11:24:34.652122Z",
     "start_time": "2025-10-03T11:24:34.640067Z"
    }
   },
   "cell_type": "code",
   "source": [
    "train_fe = create_target(train_fe)\n",
    "test_fe = create_target(test_fe)"
   ],
   "id": "12f5c4524c449275",
   "outputs": [
    {
     "name": "stdout",
     "output_type": "stream",
     "text": [
      "0    1\n",
      "1    1\n",
      "2    1\n",
      "3    1\n",
      "4    1\n",
      "5    1\n",
      "6    1\n",
      "7    1\n",
      "8    1\n",
      "9    1\n",
      "Name: target, dtype: int64\n",
      "3983    1\n",
      "3984    1\n",
      "3985    1\n",
      "3986    0\n",
      "3987    1\n",
      "3988    1\n",
      "3989    1\n",
      "3990    2\n",
      "3991    1\n",
      "3992    1\n",
      "Name: target, dtype: int64\n",
      "0    1\n",
      "1    1\n",
      "2    2\n",
      "3    0\n",
      "4    0\n",
      "5    1\n",
      "6    1\n",
      "7    1\n",
      "8    0\n",
      "9    1\n",
      "Name: target, dtype: int64\n",
      "353    2\n",
      "354    2\n",
      "355    1\n",
      "356    0\n",
      "357    1\n",
      "358    0\n",
      "359    2\n",
      "360    0\n",
      "361    0\n",
      "362    0\n",
      "Name: target, dtype: int64\n"
     ]
    }
   ],
   "execution_count": 38
  },
  {
   "metadata": {},
   "cell_type": "markdown",
   "source": "### 3. Check class balance and visualize the distribution",
   "id": "b78a805e4098e7f9"
  },
  {
   "metadata": {
    "ExecuteTime": {
     "end_time": "2025-10-03T11:27:57.075355Z",
     "start_time": "2025-10-03T11:27:56.935231Z"
    }
   },
   "cell_type": "code",
   "source": [
    "plt.figure(figsize = (10,5))\n",
    "ax = sns.countplot(x = 'target', data = train_fe)\n",
    "ax.set(ylabel = 'Count', title = 'Distribution of targets')\n",
    "plt.show(ax)\n",
    "\n"
   ],
   "id": "cafe025fcb85f28f",
   "outputs": [
    {
     "data": {
      "text/plain": [
       "<Figure size 1000x500 with 1 Axes>"
      ],
      "image/png": "[encoded data removed]"
     },
     "metadata": {},
     "output_type": "display_data"
    }
   ],
   "execution_count": 43
  },
  {
   "metadata": {},
   "cell_type": "code",
   "outputs": [],
   "execution_count": null,
   "source": "",
   "id": "fed8bcbd3403dea6"
  }
 ],
 "metadata": {
  "kernelspec": {
   "display_name": "Python 3",
   "language": "python",
   "name": "python3"
  },
  "language_info": {
   "codemirror_mode": {
    "name": "ipython",
    "version": 2
   },
   "file_extension": ".py",
   "mimetype": "text/x-python",
   "name": "python",
   "nbconvert_exporter": "python",
   "pygments_lexer": "ipython2",
   "version": "2.7.6"
  }
 },
 "nbformat": 4,
 "nbformat_minor": 5
}
